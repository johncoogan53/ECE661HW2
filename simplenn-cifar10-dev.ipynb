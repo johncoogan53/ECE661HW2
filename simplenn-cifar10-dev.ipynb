{
 "cells": [
  {
   "cell_type": "markdown",
   "metadata": {},
   "source": [
    "# Training SimpleNN on CIFAR-10\n",
    "In this project, you will use the SimpleNN model to perform image classification on CIFAR-10. CIFAR-10 orginally contains 60K images from 10 categories. We split it into 45K/5K/10K images to serve as train/valiation/test set. We only release the ground-truth labels of training/validation dataset to you."
   ]
  },
  {
   "cell_type": "markdown",
   "metadata": {},
   "source": [
    "## Step 0: Set up the SimpleNN model\n",
    "As you have practiced to implement simple neural networks in Homework 1, we just prepare the implementation for you."
   ]
  },
  {
   "cell_type": "code",
   "execution_count": 1,
   "metadata": {},
   "outputs": [],
   "source": [
    "# import necessary dependencies\n",
    "import argparse\n",
    "import os, sys\n",
    "import time\n",
    "import datetime\n",
    "from tqdm import tqdm_notebook as tqdm\n",
    "\n",
    "import torch\n",
    "import torch.nn as nn\n",
    "import torch.nn.functional as F"
   ]
  },
  {
   "cell_type": "code",
   "execution_count": 2,
   "metadata": {},
   "outputs": [
    {
     "name": "stdout",
     "output_type": "stream",
     "text": [
      "2.4.1+cu124\n",
      "CUDA version supported by PyTorch: 12.4\n"
     ]
    }
   ],
   "source": [
    "print(torch.__version__)\n",
    "# Check CUDA version supported by PyTorch\n",
    "print(\"CUDA version supported by PyTorch:\", torch.version.cuda)"
   ]
  },
  {
   "cell_type": "code",
   "execution_count": 3,
   "metadata": {},
   "outputs": [
    {
     "name": "stdout",
     "output_type": "stream",
     "text": [
      "CUDA is available. You have 1 CUDA device(s).\n",
      "Device 0: NVIDIA GeForce RTX 3050 Ti Laptop GPU\n"
     ]
    }
   ],
   "source": [
    "def check_cuda():\n",
    "    if torch.cuda.is_available():\n",
    "        print(\n",
    "            \"CUDA is available. You have\", torch.cuda.device_count(), \"CUDA device(s).\"\n",
    "        )\n",
    "        for i in range(torch.cuda.device_count()):\n",
    "            print(f\"Device {i}: {torch.cuda.get_device_name(i)}\")\n",
    "    else:\n",
    "        print(\"CUDA is not available.\")\n",
    "\n",
    "\n",
    "check_cuda()"
   ]
  },
  {
   "cell_type": "code",
   "execution_count": 4,
   "metadata": {},
   "outputs": [],
   "source": [
    "# define the SimpleNN mode;\n",
    "class SimpleNN(nn.Module):\n",
    "    def __init__(self):\n",
    "        super(SimpleNN, self).__init__()\n",
    "        self.conv1 = nn.Conv2d(3, 8, 5)\n",
    "        self.bn1 = nn.BatchNorm2d(8)\n",
    "        self.conv2 = nn.Conv2d(8, 16, 3)\n",
    "        self.bn2 = nn.BatchNorm2d(16)\n",
    "        self.fc1 = nn.Linear(16 * 6 * 6, 120)\n",
    "        self.fc2 = nn.Linear(120, 84)\n",
    "        self.fc3 = nn.Linear(84, 10)\n",
    "        self.silu = nn.SiLU()\n",
    "\n",
    "    def forward(self, x):\n",
    "        out = self.silu(self.bn1(self.conv1(x)))\n",
    "        out = F.max_pool2d(out, 2)\n",
    "        out = self.silu(self.bn2(self.conv2(out)))\n",
    "        out = F.max_pool2d(out, 2)\n",
    "        out = out.view(out.size(0), -1)\n",
    "        out = self.silu(self.fc1(out))\n",
    "        out = self.silu(self.fc2(out))\n",
    "        out = self.fc3(out)\n",
    "        return out"
   ]
  },
  {
   "cell_type": "markdown",
   "metadata": {},
   "source": [
    "### Question (a)\n",
    "Here is a sanity check to verify the implementation of SimpleNN. \n",
    "You need to:\n",
    "1. Write down your code.\n",
    "2. **In the PDF report**, give a brief description on how the code helps you know that SimpleNN is implemented correctly."
   ]
  },
  {
   "cell_type": "code",
   "execution_count": 5,
   "metadata": {},
   "outputs": [
    {
     "name": "stdout",
     "output_type": "stream",
     "text": [
      "torch.Size([1, 10])\n"
     ]
    }
   ],
   "source": [
    "#############################################\n",
    "# your code here\n",
    "# sanity check for the correctness of SimpleNN\n",
    "# each image for CIFAR is a 32x32 RGB image so the input size is 3x32x32\n",
    "# the output size should be 10\n",
    "model = SimpleNN()\n",
    "x = torch.randn(1, 3, 32, 32)\n",
    "output = model(x)\n",
    "print(output.size())\n",
    "#############################################"
   ]
  },
  {
   "cell_type": "markdown",
   "metadata": {},
   "source": [
    "## Step 1: Set up preprocessing functions\n",
    "Preprocessing is very important as discussed in the lecture.\n",
    "You will need to write preprocessing functions with the help of *torchvision.transforms* in this step.\n",
    "You can find helpful tutorial/API at [here](https://pytorch.org/vision/stable/transforms.html)."
   ]
  },
  {
   "cell_type": "markdown",
   "metadata": {},
   "source": [
    "### Question (b)\n",
    "For the question, you need to:\n",
    "1. Complete the preprocessing code below.\n",
    "2. **In the PDF report**, briefly describe what preprocessing operations you used and what are the purposes of them.\n",
    "\n",
    "Hint: \n",
    "1. Only two operations are necessary to complete the basic preprocessing here.\n",
    "2. The raw input read from the dataset will be PIL images.\n",
    "3. Data augmentation operations are not mendatory, but feel free to incorporate them if you want.\n",
    "4. Reference value for mean/std of CIFAR-10 images (assuming the pixel values are within [0,1]): mean (RGB-format): (0.4914, 0.4822, 0.4465), std (RGB-format): (0.2023, 0.1994, 0.2010)"
   ]
  },
  {
   "cell_type": "code",
   "execution_count": 6,
   "metadata": {},
   "outputs": [],
   "source": [
    "# useful libraries\n",
    "import torchvision\n",
    "import torchvision.transforms as transforms\n",
    "\n",
    "#############################################\n",
    "# your code here\n",
    "# specify preprocessing function\n",
    "mean = (0.4914, 0.4822, 0.4465)\n",
    "std = (0.2023, 0.1994, 0.2010)\n",
    "\n",
    "transform_train = transforms.Compose(\n",
    "    [\n",
    "        transforms.RandomCrop(32, padding=4),\n",
    "        transforms.RandomHorizontalFlip(),\n",
    "        transforms.ToTensor(),\n",
    "        transforms.Normalize(mean, std),\n",
    "    ]\n",
    ")\n",
    "\n",
    "transform_val = transforms.Compose(\n",
    "    [transforms.ToTensor(), transforms.Normalize(mean, std)]\n",
    ")\n",
    "#############################################"
   ]
  },
  {
   "cell_type": "markdown",
   "metadata": {},
   "source": [
    "## Step 2: Set up dataset and dataloader\n",
    "\n",
    "### Question (c)\n",
    "Set up the train/val datasets and dataloders that are to be used during the training. Check out the [official API](https://pytorch.org/docs/stable/data.html) for more information about **torch.utils.data.DataLoader**.\n",
    "\n",
    "Here, you need to:\n",
    "1. Complete the code below."
   ]
  },
  {
   "cell_type": "code",
   "execution_count": 7,
   "metadata": {},
   "outputs": [
    {
     "name": "stdout",
     "output_type": "stream",
     "text": [
      "Using downloaded and verified file: ./data\\cifar10_trainval_F22.zip\n",
      "Extracting ./data\\cifar10_trainval_F22.zip to ./data\n",
      "Files already downloaded and verified\n",
      "Using downloaded and verified file: ./data\\cifar10_trainval_F22.zip\n",
      "Extracting ./data\\cifar10_trainval_F22.zip to ./data\n",
      "Files already downloaded and verified\n"
     ]
    }
   ],
   "source": [
    "# do NOT change these\n",
    "from tools.dataset import CIFAR10\n",
    "from torch.utils.data import DataLoader\n",
    "\n",
    "# a few arguments, do NOT change these\n",
    "DATA_ROOT = \"./data\"\n",
    "TRAIN_BATCH_SIZE = 128\n",
    "VAL_BATCH_SIZE = 100\n",
    "\n",
    "#############################################\n",
    "# your code here\n",
    "# construct dataset\n",
    "train_set = CIFAR10(\n",
    "    root=DATA_ROOT, mode=\"train\", download=True, transform=transform_train\n",
    ")\n",
    "val_set = CIFAR10(root=DATA_ROOT, mode=\"val\", download=True, transform=transform_val)\n",
    "\n",
    "# construct dataloader\n",
    "train_loader = DataLoader(\n",
    "    train_set,\n",
    "    batch_size=TRAIN_BATCH_SIZE,\n",
    "    shuffle=True,  # your code\n",
    "    num_workers=4,\n",
    ")\n",
    "val_loader = DataLoader(\n",
    "    val_set,\n",
    "    batch_size=VAL_BATCH_SIZE,\n",
    "    shuffle=False,\n",
    "    num_workers=4,  # your code  # your code\n",
    ")\n",
    "#############################################"
   ]
  },
  {
   "cell_type": "markdown",
   "metadata": {},
   "source": [
    "## Step 3: Instantiate your SimpleNN model and deploy it to GPU devices.\n",
    "### Question (d)\n",
    "You may want to deploy your model to GPU device for efficient training. Please assign your model to GPU if possible. If you are training on a machine without GPUs, please deploy your model to CPUs.\n",
    "\n",
    "Here, you need to:\n",
    "1. Complete the code below.\n",
    "2. **In the PDF report**, briefly describe how you verify that your model is indeed deployed on GPU. (Hint: check $\\texttt{nvidia-smi}$.)"
   ]
  },
  {
   "cell_type": "code",
   "execution_count": 8,
   "metadata": {},
   "outputs": [
    {
     "name": "stdout",
     "output_type": "stream",
     "text": [
      "Using cuda:0 for computation\n"
     ]
    }
   ],
   "source": [
    "# specify the device for computation\n",
    "#############################################\n",
    "# your code here\n",
    "device = torch.device(\"cuda:0\" if torch.cuda.is_available() else \"cpu\")\n",
    "print(f\"Using {device} for computation\")\n",
    "\n",
    "model = SimpleNN().to(device)\n",
    "#############################################"
   ]
  },
  {
   "cell_type": "code",
   "execution_count": 9,
   "metadata": {},
   "outputs": [
    {
     "name": "stdout",
     "output_type": "stream",
     "text": [
      "CUDA available: True\n",
      "Current device: 0\n",
      "Device name: NVIDIA GeForce RTX 3050 Ti Laptop GPU\n"
     ]
    }
   ],
   "source": [
    "import torch\n",
    "\n",
    "# Check if CUDA is available\n",
    "print(\"CUDA available:\", torch.cuda.is_available())\n",
    "\n",
    "# Check the current device\n",
    "print(\"Current device:\", torch.cuda.current_device())\n",
    "\n",
    "# Check the name of the current device\n",
    "print(\"Device name:\", torch.cuda.get_device_name(torch.cuda.current_device()))"
   ]
  },
  {
   "cell_type": "code",
   "execution_count": 10,
   "metadata": {},
   "outputs": [
    {
     "name": "stdout",
     "output_type": "stream",
     "text": [
      "2.4.1+cu124\n",
      "12.4\n"
     ]
    }
   ],
   "source": [
    "print(torch.__version__)\n",
    "print(torch.version.cuda)"
   ]
  },
  {
   "cell_type": "markdown",
   "metadata": {},
   "source": [
    "After mounting the model on GPU we can see that a new process on the GPU is created.\n",
    "\n",
    "|    0   N/A  N/A     30548      C   D:\\miniconda3\\python \n",
    "exe                    N/A      |\n",
    "\n",
    "|    0   N/A  N/A     35376    C+G   ...ience\\NVIDIA GeForce Experience.exe      N/A      |\n",
    "\n",
    "(hw2) "
   ]
  },
  {
   "cell_type": "markdown",
   "metadata": {},
   "source": [
    "## Step 4: Set up the loss function and optimizer\n",
    "Loss function/objective function is used to provide \"feedback\" for the neural networks. Typically, we use multi-class cross-entropy as the loss function for classification models. As for the optimizer, we will use SGD with momentum. "
   ]
  },
  {
   "cell_type": "markdown",
   "metadata": {},
   "source": [
    "### Question (e)\n",
    "Here, you need to:\n",
    "1. Set up the cross-entropy loss as the criterion. (Hint: there are implemented functions in **torch.nn**)\n",
    "2. Specify a SGD optimizer with momentum. (Hint: there are implemented functions in **torch.optim**)"
   ]
  },
  {
   "cell_type": "code",
   "execution_count": 11,
   "metadata": {},
   "outputs": [],
   "source": [
    "import torch.nn as nn\n",
    "import torch.optim as optim\n",
    "\n",
    "# hyperparameters, do NOT change right now\n",
    "# initial learning rate\n",
    "INITIAL_LR = 0.01\n",
    "LR_LIST = [1.0, 0.1, 0.05, 0.01, 0.005, 0.001]\n",
    "# momentum for optimizer\n",
    "MOMENTUM = 0.9\n",
    "\n",
    "# L2 regularization strength\n",
    "REG = 1e-4\n",
    "REG_LIST = [1e-2, 1e-3, 1e-4, 1e-5, 0.0]\n",
    "#############################################\n",
    "# your code here\n",
    "# create loss function\n",
    "criterion = nn.CrossEntropyLoss()\n",
    "\n",
    "# Add optimizer\n",
    "optimizer = optim.SGD(\n",
    "    model.parameters(), lr=INITIAL_LR, momentum=MOMENTUM, weight_decay=REG\n",
    ")\n",
    "#############################################"
   ]
  },
  {
   "cell_type": "markdown",
   "metadata": {},
   "source": [
    "## Step 5: Start the training process.\n",
    "\n",
    "### Question (f)/(g)\n",
    "Congratulations! You have completed all of the previous steps and it is time to train our neural network.\n",
    "\n",
    "Here you need to:\n",
    "1. Complete the training codes.\n",
    "2. Actually perform the training.\n",
    "\n",
    "Hint: Training a neural network usually repeats the following 4 steps: \n",
    "\n",
    "**i) Get a batch of data from the dataloader and copy it to your device (GPU).**\n",
    "\n",
    "**ii) Do a forward pass to get the outputs from the neural network and compute the loss. Be careful about your inputs to the loss function. Are the inputs required to be the logits or softmax probabilities?)**\n",
    "\n",
    "**iii) Do a backward pass (back-propagation) to compute gradients of all weights with respect to the loss.**\n",
    "\n",
    "**iiii) Update the model weights with the optimizer.**\n",
    "\n",
    "You will also need to compute the accuracy of training/validation samples to track your model's performance over each epoch (the accuracy should be increasing as you train for more and more epochs).\n"
   ]
  },
  {
   "cell_type": "code",
   "execution_count": 12,
   "metadata": {},
   "outputs": [],
   "source": [
    "def train_val(\n",
    "    optimizer,\n",
    "    criterion,\n",
    "    model,\n",
    "    train_loader=train_loader,\n",
    "    val_loader=val_loader,\n",
    "    device=device,\n",
    "    INITIAL_LR=INITIAL_LR,\n",
    "    REG=REG,\n",
    "):\n",
    "    # some hyperparameters\n",
    "    # total number of training epochs\n",
    "\n",
    "    EPOCHS = 30\n",
    "\n",
    "\n",
    "    # the folder where the trained model is saved\n",
    "\n",
    "\n",
    "    CHECKPOINT_FOLDER = \"./saved_model\"\n",
    "\n",
    "\n",
    "    # start the training/validation process\n",
    "\n",
    "\n",
    "    # the process should take about 5 minutes on a GTX 1070-Ti\n",
    "    # if the code is written efficiently.\n",
    "    best_val_acc = 0\n",
    "\n",
    "    current_learning_rate = INITIAL_LR\n",
    "\n",
    "\n",
    "    print(\"==> Training starts!\")\n",
    "    print(\"=\" * 50)\n",
    "\n",
    "\n",
    "    for i in range(0, EPOCHS):\n",
    "        #######################\n",
    "\n",
    "\n",
    "        # your code here\n",
    "        # switch to train mode\n",
    "        model.train()\n",
    "        #######################\n",
    "\n",
    "\n",
    "        print(\"Epoch %d:\" % i)\n",
    "        # this help you compute the training accuracy\n",
    "        total_examples = 0\n",
    "        correct_examples = 0\n",
    "\n",
    "\n",
    "        train_loss = 0  # track training loss if you want\n",
    "\n",
    "        # Train the model for 1 epoch.\n",
    "\n",
    "\n",
    "        for batch_idx, (inputs, targets) in enumerate(train_loader):\n",
    "            ####################################\n",
    "\n",
    "\n",
    "            # your code here\n",
    "            # copy inputs to device\n",
    "            inputs, targets = inputs.to(device), targets.to(device)\n",
    "            # compute the output and loss\n",
    "\n",
    "\n",
    "            outputs = model(inputs)\n",
    "            loss = criterion(outputs, targets)\n",
    "\n",
    "            # zero the gradient\n",
    "\n",
    "\n",
    "            optimizer.zero_grad()\n",
    "\n",
    "            # backpropagation\n",
    "            loss.backward()\n",
    "\n",
    "            # apply gradient and update the weights\n",
    "            optimizer.step()\n",
    "\n",
    "\n",
    "            train_loss += loss.item()\n",
    "\n",
    "            # count the number of correctly predicted samples in the current batch\n",
    "            total_examples += targets.size(0)\n",
    "            _, predicted = outputs.max(1)\n",
    "            correct_examples += predicted.eq(targets).sum().item()\n",
    "            ####################################\n",
    "\n",
    "\n",
    "        print(\n",
    "            f\"CUDA memory allocated: {torch.cuda.memory_allocated(device) / 1e6:.2f} MB\"\n",
    "        )\n",
    "        avg_loss = train_loss / len(train_loader)\n",
    "        avg_acc = correct_examples / total_examples\n",
    "        print(\"Training loss: %.4f, Training accuracy: %.4f\" % (avg_loss, avg_acc))\n",
    "\n",
    "\n",
    "        # Validate on the validation dataset\n",
    "        #######################\n",
    "\n",
    "\n",
    "        # your code here\n",
    "        # switch to eval mode\n",
    "        model.eval()\n",
    "\n",
    "        #######################\n",
    "\n",
    "\n",
    "        # this help you compute the validation accuracy\n",
    "        total_examples = 0\n",
    "        correct_examples = 0\n",
    "\n",
    "\n",
    "        val_loss = 0  # again, track the validation loss if you want\n",
    "\n",
    "\n",
    "        # disable gradient during validation, which can save GPU memory\n",
    "\n",
    "        with torch.no_grad():\n",
    "            for batch_idx, (inputs, targets) in enumerate(val_loader):\n",
    "                ####################################\n",
    "\n",
    "\n",
    "                # your code here\n",
    "                # copy inputs to device\n",
    "                inputs, targets = inputs.to(device), targets.to(device)\n",
    "                # compute the output and loss\n",
    "\n",
    "\n",
    "                outputs = model(inputs)\n",
    "                loss = criterion(outputs, targets)\n",
    "\n",
    "\n",
    "                # count the number of correctly predicted samples in the current batch\n",
    "\n",
    "\n",
    "                total_examples += targets.size(0)\n",
    "                _, predicted = outputs.max(1)\n",
    "                correct_examples += predicted.eq(targets).sum().item()\n",
    "                val_loss += loss.item()\n",
    "                ####################################\n",
    "\n",
    "\n",
    "        avg_loss = val_loss / len(val_loader)\n",
    "        avg_acc = correct_examples / total_examples\n",
    "\n",
    "        print(\"Validation loss: %.4f, Validation accuracy: %.4f\" % (avg_loss, avg_acc))\n",
    "\n",
    "\n",
    "        # save the model checkpoint\n",
    "\n",
    "\n",
    "        if avg_acc > best_val_acc:\n",
    "            best_val_acc = avg_acc\n",
    "\n",
    "            if not os.path.exists(CHECKPOINT_FOLDER):\n",
    "                os.makedirs(CHECKPOINT_FOLDER)\n",
    "            print(\"Saving ...\")\n",
    "\n",
    "            state = {\n",
    "                \"state_dict\": model.state_dict(),\n",
    "                \"epoch\": i,\n",
    "                \"lr\": current_learning_rate,\n",
    "            }\n",
    "            checkpoint_path = os.path.join(\n",
    "                CHECKPOINT_FOLDER, f\"LR{INITIAL_LR}_REG{REG}.pth\"\n",
    "            )\n",
    "            torch.save(state, checkpoint_path)\n",
    "\n",
    "        print(\"\")\n",
    "\n",
    "\n",
    "    print(\"=\" * 50)\n",
    "\n",
    "\n",
    "    print(f\"==> Optimization finished! Best validation accuracy: {best_val_acc:.4f}\")"
   ]
  },
  {
   "cell_type": "code",
   "execution_count": 13,
   "metadata": {},
   "outputs": [
    {
     "name": "stdout",
     "output_type": "stream",
     "text": [
      "Training with learning rate: 1.0\n",
      "==> Training starts!\n",
      "==================================================\n",
      "Epoch 0:\n",
      "CUDA memory allocated: 18.93 MB\n",
      "Training loss: 52.6282, Training accuracy: 0.1044\n",
      "Validation loss: 2.3158, Validation accuracy: 0.0978\n",
      "Saving ...\n",
      "\n",
      "Epoch 1:\n",
      "CUDA memory allocated: 18.93 MB\n",
      "Training loss: 2.3208, Training accuracy: 0.1002\n",
      "Validation loss: 2.3130, Validation accuracy: 0.1054\n",
      "Saving ...\n",
      "\n",
      "Epoch 2:\n",
      "CUDA memory allocated: 18.93 MB\n",
      "Training loss: 2.3214, Training accuracy: 0.1007\n",
      "Validation loss: 2.3244, Validation accuracy: 0.0986\n",
      "\n",
      "Epoch 3:\n",
      "CUDA memory allocated: 18.93 MB\n",
      "Training loss: 2.3199, Training accuracy: 0.1010\n",
      "Validation loss: 2.3270, Validation accuracy: 0.1014\n",
      "\n",
      "Epoch 4:\n",
      "CUDA memory allocated: 18.93 MB\n",
      "Training loss: 2.3186, Training accuracy: 0.0998\n",
      "Validation loss: 2.3446, Validation accuracy: 0.1046\n",
      "\n",
      "==================================================\n",
      "==> Optimization finished! Best validation accuracy: 0.1054\n",
      "Training with learning rate: 0.1\n",
      "==> Training starts!\n",
      "==================================================\n",
      "Epoch 0:\n",
      "CUDA memory allocated: 18.93 MB\n",
      "Training loss: 1.6637, Training accuracy: 0.3838\n",
      "Validation loss: 1.3822, Validation accuracy: 0.5108\n",
      "Saving ...\n",
      "\n",
      "Epoch 1:\n",
      "CUDA memory allocated: 18.93 MB\n",
      "Training loss: 1.3687, Training accuracy: 0.5082\n",
      "Validation loss: 1.2334, Validation accuracy: 0.5484\n",
      "Saving ...\n",
      "\n",
      "Epoch 2:\n",
      "CUDA memory allocated: 18.93 MB\n",
      "Training loss: 1.2435, Training accuracy: 0.5557\n",
      "Validation loss: 1.1311, Validation accuracy: 0.6014\n",
      "Saving ...\n",
      "\n",
      "Epoch 3:\n",
      "CUDA memory allocated: 18.93 MB\n",
      "Training loss: 1.1725, Training accuracy: 0.5808\n",
      "Validation loss: 1.1381, Validation accuracy: 0.5996\n",
      "\n",
      "Epoch 4:\n",
      "CUDA memory allocated: 18.93 MB\n",
      "Training loss: 1.1264, Training accuracy: 0.5987\n",
      "Validation loss: 1.0016, Validation accuracy: 0.6438\n",
      "Saving ...\n",
      "\n",
      "==================================================\n",
      "==> Optimization finished! Best validation accuracy: 0.6438\n",
      "Training with learning rate: 0.05\n",
      "==> Training starts!\n",
      "==================================================\n",
      "Epoch 0:\n",
      "CUDA memory allocated: 18.93 MB\n",
      "Training loss: 1.6596, Training accuracy: 0.3853\n",
      "Validation loss: 1.3992, Validation accuracy: 0.4900\n",
      "Saving ...\n",
      "\n",
      "Epoch 1:\n"
     ]
    },
    {
     "ename": "KeyboardInterrupt",
     "evalue": "",
     "output_type": "error",
     "traceback": [
      "\u001b[1;31m---------------------------------------------------------------------------\u001b[0m",
      "\u001b[1;31mKeyboardInterrupt\u001b[0m                         Traceback (most recent call last)",
      "Cell \u001b[1;32mIn[13], line 8\u001b[0m\n\u001b[0;32m      4\u001b[0m     optimizer \u001b[38;5;241m=\u001b[39m optim\u001b[38;5;241m.\u001b[39mSGD(\n\u001b[0;32m      5\u001b[0m         model\u001b[38;5;241m.\u001b[39mparameters(), lr\u001b[38;5;241m=\u001b[39mlr, momentum\u001b[38;5;241m=\u001b[39mMOMENTUM, weight_decay\u001b[38;5;241m=\u001b[39mREG\n\u001b[0;32m      6\u001b[0m     )\n\u001b[0;32m      7\u001b[0m     \u001b[38;5;28mprint\u001b[39m(\u001b[38;5;124mf\u001b[39m\u001b[38;5;124m\"\u001b[39m\u001b[38;5;124mTraining with learning rate: \u001b[39m\u001b[38;5;132;01m{\u001b[39;00mlr\u001b[38;5;132;01m}\u001b[39;00m\u001b[38;5;124m\"\u001b[39m)\n\u001b[1;32m----> 8\u001b[0m     \u001b[43mtrain_val\u001b[49m\u001b[43m(\u001b[49m\u001b[43moptimizer\u001b[49m\u001b[43m,\u001b[49m\u001b[43m \u001b[49m\u001b[43mcriterion\u001b[49m\u001b[43m,\u001b[49m\u001b[43m \u001b[49m\u001b[43mmodel\u001b[49m\u001b[43m,\u001b[49m\u001b[43m \u001b[49m\u001b[43mINITIAL_LR\u001b[49m\u001b[38;5;241;43m=\u001b[39;49m\u001b[43mlr\u001b[49m\u001b[43m)\u001b[49m\n\u001b[0;32m      9\u001b[0m \u001b[38;5;28;01mfor\u001b[39;00m reg \u001b[38;5;129;01min\u001b[39;00m REG_LIST:\n\u001b[0;32m     10\u001b[0m     model \u001b[38;5;241m=\u001b[39m SimpleNN()\u001b[38;5;241m.\u001b[39mto(device)\n",
      "Cell \u001b[1;32mIn[12], line 58\u001b[0m, in \u001b[0;36mtrain_val\u001b[1;34m(optimizer, criterion, model, train_loader, val_loader, device, INITIAL_LR, REG)\u001b[0m\n\u001b[0;32m     53\u001b[0m train_loss \u001b[38;5;241m=\u001b[39m \u001b[38;5;241m0\u001b[39m  \u001b[38;5;66;03m# track training loss if you want\u001b[39;00m\n\u001b[0;32m     55\u001b[0m \u001b[38;5;66;03m# Train the model for 1 epoch.\u001b[39;00m\n\u001b[1;32m---> 58\u001b[0m \u001b[38;5;28;01mfor\u001b[39;00m batch_idx, (inputs, targets) \u001b[38;5;129;01min\u001b[39;00m \u001b[38;5;28menumerate\u001b[39m(train_loader):\n\u001b[0;32m     59\u001b[0m     \u001b[38;5;66;03m####################################\u001b[39;00m\n\u001b[0;32m     60\u001b[0m \n\u001b[0;32m     61\u001b[0m \n\u001b[0;32m     62\u001b[0m     \u001b[38;5;66;03m# your code here\u001b[39;00m\n\u001b[0;32m     63\u001b[0m     \u001b[38;5;66;03m# copy inputs to device\u001b[39;00m\n\u001b[0;32m     64\u001b[0m     inputs, targets \u001b[38;5;241m=\u001b[39m inputs\u001b[38;5;241m.\u001b[39mto(device), targets\u001b[38;5;241m.\u001b[39mto(device)\n\u001b[0;32m     65\u001b[0m     \u001b[38;5;66;03m# compute the output and loss\u001b[39;00m\n",
      "File \u001b[1;32md:\\MIDS\\Deep_Learning\\ECE661HW2\\hw2\\Lib\\site-packages\\torch\\utils\\data\\dataloader.py:440\u001b[0m, in \u001b[0;36mDataLoader.__iter__\u001b[1;34m(self)\u001b[0m\n\u001b[0;32m    438\u001b[0m     \u001b[38;5;28;01mreturn\u001b[39;00m \u001b[38;5;28mself\u001b[39m\u001b[38;5;241m.\u001b[39m_iterator\n\u001b[0;32m    439\u001b[0m \u001b[38;5;28;01melse\u001b[39;00m:\n\u001b[1;32m--> 440\u001b[0m     \u001b[38;5;28;01mreturn\u001b[39;00m \u001b[38;5;28;43mself\u001b[39;49m\u001b[38;5;241;43m.\u001b[39;49m\u001b[43m_get_iterator\u001b[49m\u001b[43m(\u001b[49m\u001b[43m)\u001b[49m\n",
      "File \u001b[1;32md:\\MIDS\\Deep_Learning\\ECE661HW2\\hw2\\Lib\\site-packages\\torch\\utils\\data\\dataloader.py:388\u001b[0m, in \u001b[0;36mDataLoader._get_iterator\u001b[1;34m(self)\u001b[0m\n\u001b[0;32m    386\u001b[0m \u001b[38;5;28;01melse\u001b[39;00m:\n\u001b[0;32m    387\u001b[0m     \u001b[38;5;28mself\u001b[39m\u001b[38;5;241m.\u001b[39mcheck_worker_number_rationality()\n\u001b[1;32m--> 388\u001b[0m     \u001b[38;5;28;01mreturn\u001b[39;00m \u001b[43m_MultiProcessingDataLoaderIter\u001b[49m\u001b[43m(\u001b[49m\u001b[38;5;28;43mself\u001b[39;49m\u001b[43m)\u001b[49m\n",
      "File \u001b[1;32md:\\MIDS\\Deep_Learning\\ECE661HW2\\hw2\\Lib\\site-packages\\torch\\utils\\data\\dataloader.py:1038\u001b[0m, in \u001b[0;36m_MultiProcessingDataLoaderIter.__init__\u001b[1;34m(self, loader)\u001b[0m\n\u001b[0;32m   1031\u001b[0m w\u001b[38;5;241m.\u001b[39mdaemon \u001b[38;5;241m=\u001b[39m \u001b[38;5;28;01mTrue\u001b[39;00m\n\u001b[0;32m   1032\u001b[0m \u001b[38;5;66;03m# NB: Process.start() actually take some time as it needs to\u001b[39;00m\n\u001b[0;32m   1033\u001b[0m \u001b[38;5;66;03m#     start a process and pass the arguments over via a pipe.\u001b[39;00m\n\u001b[0;32m   1034\u001b[0m \u001b[38;5;66;03m#     Therefore, we only add a worker to self._workers list after\u001b[39;00m\n\u001b[0;32m   1035\u001b[0m \u001b[38;5;66;03m#     it started, so that we do not call .join() if program dies\u001b[39;00m\n\u001b[0;32m   1036\u001b[0m \u001b[38;5;66;03m#     before it starts, and __del__ tries to join but will get:\u001b[39;00m\n\u001b[0;32m   1037\u001b[0m \u001b[38;5;66;03m#     AssertionError: can only join a started process.\u001b[39;00m\n\u001b[1;32m-> 1038\u001b[0m \u001b[43mw\u001b[49m\u001b[38;5;241;43m.\u001b[39;49m\u001b[43mstart\u001b[49m\u001b[43m(\u001b[49m\u001b[43m)\u001b[49m\n\u001b[0;32m   1039\u001b[0m \u001b[38;5;28mself\u001b[39m\u001b[38;5;241m.\u001b[39m_index_queues\u001b[38;5;241m.\u001b[39mappend(index_queue)\n\u001b[0;32m   1040\u001b[0m \u001b[38;5;28mself\u001b[39m\u001b[38;5;241m.\u001b[39m_workers\u001b[38;5;241m.\u001b[39mappend(w)\n",
      "File \u001b[1;32mD:\\miniconda3\\Lib\\multiprocessing\\process.py:121\u001b[0m, in \u001b[0;36mBaseProcess.start\u001b[1;34m(self)\u001b[0m\n\u001b[0;32m    118\u001b[0m \u001b[38;5;28;01massert\u001b[39;00m \u001b[38;5;129;01mnot\u001b[39;00m _current_process\u001b[38;5;241m.\u001b[39m_config\u001b[38;5;241m.\u001b[39mget(\u001b[38;5;124m'\u001b[39m\u001b[38;5;124mdaemon\u001b[39m\u001b[38;5;124m'\u001b[39m), \\\n\u001b[0;32m    119\u001b[0m        \u001b[38;5;124m'\u001b[39m\u001b[38;5;124mdaemonic processes are not allowed to have children\u001b[39m\u001b[38;5;124m'\u001b[39m\n\u001b[0;32m    120\u001b[0m _cleanup()\n\u001b[1;32m--> 121\u001b[0m \u001b[38;5;28mself\u001b[39m\u001b[38;5;241m.\u001b[39m_popen \u001b[38;5;241m=\u001b[39m \u001b[38;5;28;43mself\u001b[39;49m\u001b[38;5;241;43m.\u001b[39;49m\u001b[43m_Popen\u001b[49m\u001b[43m(\u001b[49m\u001b[38;5;28;43mself\u001b[39;49m\u001b[43m)\u001b[49m\n\u001b[0;32m    122\u001b[0m \u001b[38;5;28mself\u001b[39m\u001b[38;5;241m.\u001b[39m_sentinel \u001b[38;5;241m=\u001b[39m \u001b[38;5;28mself\u001b[39m\u001b[38;5;241m.\u001b[39m_popen\u001b[38;5;241m.\u001b[39msentinel\n\u001b[0;32m    123\u001b[0m \u001b[38;5;66;03m# Avoid a refcycle if the target function holds an indirect\u001b[39;00m\n\u001b[0;32m    124\u001b[0m \u001b[38;5;66;03m# reference to the process object (see bpo-30775)\u001b[39;00m\n",
      "File \u001b[1;32mD:\\miniconda3\\Lib\\multiprocessing\\context.py:224\u001b[0m, in \u001b[0;36mProcess._Popen\u001b[1;34m(process_obj)\u001b[0m\n\u001b[0;32m    222\u001b[0m \u001b[38;5;129m@staticmethod\u001b[39m\n\u001b[0;32m    223\u001b[0m \u001b[38;5;28;01mdef\u001b[39;00m \u001b[38;5;21m_Popen\u001b[39m(process_obj):\n\u001b[1;32m--> 224\u001b[0m     \u001b[38;5;28;01mreturn\u001b[39;00m \u001b[43m_default_context\u001b[49m\u001b[38;5;241;43m.\u001b[39;49m\u001b[43mget_context\u001b[49m\u001b[43m(\u001b[49m\u001b[43m)\u001b[49m\u001b[38;5;241;43m.\u001b[39;49m\u001b[43mProcess\u001b[49m\u001b[38;5;241;43m.\u001b[39;49m\u001b[43m_Popen\u001b[49m\u001b[43m(\u001b[49m\u001b[43mprocess_obj\u001b[49m\u001b[43m)\u001b[49m\n",
      "File \u001b[1;32mD:\\miniconda3\\Lib\\multiprocessing\\context.py:336\u001b[0m, in \u001b[0;36mSpawnProcess._Popen\u001b[1;34m(process_obj)\u001b[0m\n\u001b[0;32m    333\u001b[0m \u001b[38;5;129m@staticmethod\u001b[39m\n\u001b[0;32m    334\u001b[0m \u001b[38;5;28;01mdef\u001b[39;00m \u001b[38;5;21m_Popen\u001b[39m(process_obj):\n\u001b[0;32m    335\u001b[0m     \u001b[38;5;28;01mfrom\u001b[39;00m \u001b[38;5;21;01m.\u001b[39;00m\u001b[38;5;21;01mpopen_spawn_win32\u001b[39;00m \u001b[38;5;28;01mimport\u001b[39;00m Popen\n\u001b[1;32m--> 336\u001b[0m     \u001b[38;5;28;01mreturn\u001b[39;00m \u001b[43mPopen\u001b[49m\u001b[43m(\u001b[49m\u001b[43mprocess_obj\u001b[49m\u001b[43m)\u001b[49m\n",
      "File \u001b[1;32mD:\\miniconda3\\Lib\\multiprocessing\\popen_spawn_win32.py:94\u001b[0m, in \u001b[0;36mPopen.__init__\u001b[1;34m(self, process_obj)\u001b[0m\n\u001b[0;32m     92\u001b[0m \u001b[38;5;28;01mtry\u001b[39;00m:\n\u001b[0;32m     93\u001b[0m     reduction\u001b[38;5;241m.\u001b[39mdump(prep_data, to_child)\n\u001b[1;32m---> 94\u001b[0m     \u001b[43mreduction\u001b[49m\u001b[38;5;241;43m.\u001b[39;49m\u001b[43mdump\u001b[49m\u001b[43m(\u001b[49m\u001b[43mprocess_obj\u001b[49m\u001b[43m,\u001b[49m\u001b[43m \u001b[49m\u001b[43mto_child\u001b[49m\u001b[43m)\u001b[49m\n\u001b[0;32m     95\u001b[0m \u001b[38;5;28;01mfinally\u001b[39;00m:\n\u001b[0;32m     96\u001b[0m     set_spawning_popen(\u001b[38;5;28;01mNone\u001b[39;00m)\n",
      "File \u001b[1;32mD:\\miniconda3\\Lib\\multiprocessing\\reduction.py:60\u001b[0m, in \u001b[0;36mdump\u001b[1;34m(obj, file, protocol)\u001b[0m\n\u001b[0;32m     58\u001b[0m \u001b[38;5;28;01mdef\u001b[39;00m \u001b[38;5;21mdump\u001b[39m(obj, file, protocol\u001b[38;5;241m=\u001b[39m\u001b[38;5;28;01mNone\u001b[39;00m):\n\u001b[0;32m     59\u001b[0m \u001b[38;5;250m    \u001b[39m\u001b[38;5;124;03m'''Replacement for pickle.dump() using ForkingPickler.'''\u001b[39;00m\n\u001b[1;32m---> 60\u001b[0m     \u001b[43mForkingPickler\u001b[49m\u001b[43m(\u001b[49m\u001b[43mfile\u001b[49m\u001b[43m,\u001b[49m\u001b[43m \u001b[49m\u001b[43mprotocol\u001b[49m\u001b[43m)\u001b[49m\u001b[38;5;241;43m.\u001b[39;49m\u001b[43mdump\u001b[49m\u001b[43m(\u001b[49m\u001b[43mobj\u001b[49m\u001b[43m)\u001b[49m\n",
      "\u001b[1;31mKeyboardInterrupt\u001b[0m: "
     ]
    }
   ],
   "source": [
    "for lr in LR_LIST:\n",
    "    model = SimpleNN().to(device)\n",
    "    criterion = nn.CrossEntropyLoss()\n",
    "    optimizer = optim.SGD(\n",
    "        model.parameters(), lr=lr, momentum=MOMENTUM, weight_decay=REG\n",
    "    )\n",
    "    print(f\"Training with learning rate: {lr}\")\n",
    "    train_val(optimizer, criterion, model, INITIAL_LR=lr)\n",
    "for reg in REG_LIST:\n",
    "    model = SimpleNN().to(device)\n",
    "    criterion = nn.CrossEntropyLoss()\n",
    "    optimizer = optim.SGD(\n",
    "        model.parameters(), lr=INITIAL_LR, momentum=MOMENTUM, weight_decay=reg\n",
    "    )\n",
    "    print(f\"Training with regularization strength: {reg}\")\n",
    "    train_val(optimizer, criterion, model, REG=reg)"
   ]
  },
  {
   "cell_type": "markdown",
   "metadata": {},
   "source": [
    "# Bonus: with learning rate decay\n",
    "\n",
    "The following code can help you adjust the learning rate during training. You need to figure out how to incorporate this code into your training loop.\n",
    "```python\n",
    "    if i % DECAY_EPOCHS == 0 and i != 0:\n",
    "        current_learning_rate = current_learning_rate * DECAY\n",
    "        for param_group in optimizer.param_groups:\n",
    "            param_group['lr'] = current_learning_rate\n",
    "        print(\"Current learning rate has decayed to %f\" %current_learning_rate)\n",
    "```"
   ]
  },
  {
   "cell_type": "code",
   "execution_count": null,
   "metadata": {},
   "outputs": [],
   "source": []
  }
 ],
 "metadata": {
  "kernelspec": {
   "display_name": "Python 3 (ipykernel)",
   "language": "python",
   "name": "python3"
  },
  "language_info": {
   "codemirror_mode": {
    "name": "ipython",
    "version": 3
   },
   "file_extension": ".py",
   "mimetype": "text/x-python",
   "name": "python",
   "nbconvert_exporter": "python",
   "pygments_lexer": "ipython3",
   "version": "3.11.5"
  }
 },
 "nbformat": 4,
 "nbformat_minor": 4
}
