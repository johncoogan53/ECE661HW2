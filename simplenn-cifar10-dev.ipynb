{
 "cells": [
  {
   "cell_type": "markdown",
   "metadata": {},
   "source": [
    "# Training SimpleNN on CIFAR-10\n",
    "In this project, you will use the SimpleNN model to perform image classification on CIFAR-10. CIFAR-10 orginally contains 60K images from 10 categories. We split it into 45K/5K/10K images to serve as train/valiation/test set. We only release the ground-truth labels of training/validation dataset to you."
   ]
  },
  {
   "cell_type": "markdown",
   "metadata": {},
   "source": [
    "## Step 0: Set up the SimpleNN model\n",
    "As you have practiced to implement simple neural networks in Homework 1, we just prepare the implementation for you."
   ]
  },
  {
   "cell_type": "code",
   "execution_count": 1,
   "metadata": {},
   "outputs": [],
   "source": [
    "# import necessary dependencies\n",
    "import argparse\n",
    "import os, sys\n",
    "import time\n",
    "import datetime\n",
    "from tqdm import tqdm_notebook as tqdm\n",
    "\n",
    "import torch\n",
    "import torch.nn as nn\n",
    "import torch.nn.functional as F"
   ]
  },
  {
   "cell_type": "code",
   "execution_count": 2,
   "metadata": {},
   "outputs": [
    {
     "name": "stdout",
     "output_type": "stream",
     "text": [
      "2.4.1+cu124\n",
      "CUDA version supported by PyTorch: 12.4\n"
     ]
    }
   ],
   "source": [
    "print(torch.__version__)\n",
    "# Check CUDA version supported by PyTorch\n",
    "print(\"CUDA version supported by PyTorch:\", torch.version.cuda)"
   ]
  },
  {
   "cell_type": "code",
   "execution_count": 3,
   "metadata": {},
   "outputs": [
    {
     "name": "stdout",
     "output_type": "stream",
     "text": [
      "CUDA is available. You have 1 CUDA device(s).\n",
      "Device 0: NVIDIA GeForce RTX 3050 Ti Laptop GPU\n"
     ]
    }
   ],
   "source": [
    "def check_cuda():\n",
    "    if torch.cuda.is_available():\n",
    "        print(\n",
    "            \"CUDA is available. You have\", torch.cuda.device_count(), \"CUDA device(s).\"\n",
    "        )\n",
    "        for i in range(torch.cuda.device_count()):\n",
    "            print(f\"Device {i}: {torch.cuda.get_device_name(i)}\")\n",
    "    else:\n",
    "        print(\"CUDA is not available.\")\n",
    "\n",
    "\n",
    "check_cuda()"
   ]
  },
  {
   "cell_type": "code",
   "execution_count": 4,
   "metadata": {},
   "outputs": [],
   "source": [
    "# define the SimpleNN mode;\n",
    "class SimpleNN(nn.Module):\n",
    "    def __init__(self):\n",
    "        super(SimpleNN, self).__init__()\n",
    "        self.conv1 = nn.Conv2d(3, 8, 5)\n",
    "        self.bn1 = nn.BatchNorm2d(8)\n",
    "        self.conv2 = nn.Conv2d(8, 16, 3)\n",
    "        self.bn2 = nn.BatchNorm2d(16)\n",
    "        self.fc1 = nn.Linear(16 * 6 * 6, 120)\n",
    "        self.fc2 = nn.Linear(120, 84)\n",
    "        self.fc3 = nn.Linear(84, 10)\n",
    "        self.silu = nn.SiLU()\n",
    "\n",
    "    def forward(self, x):\n",
    "        out = self.silu(self.bn1(self.conv1(x)))\n",
    "        out = F.max_pool2d(out, 2)\n",
    "        out = self.silu(self.bn2(self.conv2(out)))\n",
    "        out = F.max_pool2d(out, 2)\n",
    "        out = out.view(out.size(0), -1)\n",
    "        out = self.silu(self.fc1(out))\n",
    "        out = self.silu(self.fc2(out))\n",
    "        out = self.fc3(out)\n",
    "        return out"
   ]
  },
  {
   "cell_type": "markdown",
   "metadata": {},
   "source": [
    "### Question (a)\n",
    "Here is a sanity check to verify the implementation of SimpleNN. \n",
    "You need to:\n",
    "1. Write down your code.\n",
    "2. **In the PDF report**, give a brief description on how the code helps you know that SimpleNN is implemented correctly."
   ]
  },
  {
   "cell_type": "code",
   "execution_count": 5,
   "metadata": {},
   "outputs": [
    {
     "name": "stdout",
     "output_type": "stream",
     "text": [
      "torch.Size([1, 10])\n"
     ]
    }
   ],
   "source": [
    "#############################################\n",
    "# your code here\n",
    "# sanity check for the correctness of SimpleNN\n",
    "# each image for CIFAR is a 32x32 RGB image so the input size is 3x32x32\n",
    "# the output size should be 10\n",
    "model = SimpleNN()\n",
    "x = torch.randn(1, 3, 32, 32)\n",
    "output = model(x)\n",
    "print(output.size())\n",
    "#############################################"
   ]
  },
  {
   "cell_type": "markdown",
   "metadata": {},
   "source": [
    "## Step 1: Set up preprocessing functions\n",
    "Preprocessing is very important as discussed in the lecture.\n",
    "You will need to write preprocessing functions with the help of *torchvision.transforms* in this step.\n",
    "You can find helpful tutorial/API at [here](https://pytorch.org/vision/stable/transforms.html)."
   ]
  },
  {
   "cell_type": "markdown",
   "metadata": {},
   "source": [
    "### Question (b)\n",
    "For the question, you need to:\n",
    "1. Complete the preprocessing code below.\n",
    "2. **In the PDF report**, briefly describe what preprocessing operations you used and what are the purposes of them.\n",
    "\n",
    "Hint: \n",
    "1. Only two operations are necessary to complete the basic preprocessing here.\n",
    "2. The raw input read from the dataset will be PIL images.\n",
    "3. Data augmentation operations are not mendatory, but feel free to incorporate them if you want.\n",
    "4. Reference value for mean/std of CIFAR-10 images (assuming the pixel values are within [0,1]): mean (RGB-format): (0.4914, 0.4822, 0.4465), std (RGB-format): (0.2023, 0.1994, 0.2010)"
   ]
  },
  {
   "cell_type": "code",
   "execution_count": 6,
   "metadata": {},
   "outputs": [],
   "source": [
    "# useful libraries\n",
    "import torchvision\n",
    "import torchvision.transforms as transforms\n",
    "\n",
    "#############################################\n",
    "# your code here\n",
    "# specify preprocessing function\n",
    "mean = (0.4914, 0.4822, 0.4465)\n",
    "std = (0.2023, 0.1994, 0.2010)\n",
    "\n",
    "transform_train = transforms.Compose(\n",
    "    [\n",
    "        transforms.RandomCrop(32, padding=4),\n",
    "        transforms.RandomHorizontalFlip(),\n",
    "        transforms.ToTensor(),\n",
    "        transforms.Normalize(mean, std),\n",
    "    ]\n",
    ")\n",
    "\n",
    "transform_val = transforms.Compose(\n",
    "    [transforms.ToTensor(), transforms.Normalize(mean, std)]\n",
    ")\n",
    "#############################################"
   ]
  },
  {
   "cell_type": "markdown",
   "metadata": {},
   "source": [
    "## Step 2: Set up dataset and dataloader\n",
    "\n",
    "### Question (c)\n",
    "Set up the train/val datasets and dataloders that are to be used during the training. Check out the [official API](https://pytorch.org/docs/stable/data.html) for more information about **torch.utils.data.DataLoader**.\n",
    "\n",
    "Here, you need to:\n",
    "1. Complete the code below."
   ]
  },
  {
   "cell_type": "code",
   "execution_count": 7,
   "metadata": {},
   "outputs": [
    {
     "name": "stdout",
     "output_type": "stream",
     "text": [
      "Using downloaded and verified file: ./data\\cifar10_trainval_F22.zip\n",
      "Extracting ./data\\cifar10_trainval_F22.zip to ./data\n",
      "Files already downloaded and verified\n",
      "Using downloaded and verified file: ./data\\cifar10_trainval_F22.zip\n",
      "Extracting ./data\\cifar10_trainval_F22.zip to ./data\n",
      "Files already downloaded and verified\n"
     ]
    }
   ],
   "source": [
    "# do NOT change these\n",
    "from tools.dataset import CIFAR10\n",
    "from torch.utils.data import DataLoader\n",
    "\n",
    "# a few arguments, do NOT change these\n",
    "DATA_ROOT = \"./data\"\n",
    "TRAIN_BATCH_SIZE = 128\n",
    "VAL_BATCH_SIZE = 100\n",
    "\n",
    "#############################################\n",
    "# your code here\n",
    "# construct dataset\n",
    "train_set = CIFAR10(\n",
    "    root=DATA_ROOT, mode=\"train\", download=True, transform=transform_train\n",
    ")\n",
    "val_set = CIFAR10(root=DATA_ROOT, mode=\"val\", download=True, transform=transform_val)\n",
    "\n",
    "# construct dataloader\n",
    "train_loader = DataLoader(\n",
    "    train_set,\n",
    "    batch_size=TRAIN_BATCH_SIZE,\n",
    "    shuffle=True,  # your code\n",
    "    num_workers=4,\n",
    ")\n",
    "val_loader = DataLoader(\n",
    "    val_set,\n",
    "    batch_size=VAL_BATCH_SIZE,\n",
    "    shuffle=False,\n",
    "    num_workers=4,  # your code  # your code\n",
    ")\n",
    "#############################################"
   ]
  },
  {
   "cell_type": "markdown",
   "metadata": {},
   "source": [
    "## Step 3: Instantiate your SimpleNN model and deploy it to GPU devices.\n",
    "### Question (d)\n",
    "You may want to deploy your model to GPU device for efficient training. Please assign your model to GPU if possible. If you are training on a machine without GPUs, please deploy your model to CPUs.\n",
    "\n",
    "Here, you need to:\n",
    "1. Complete the code below.\n",
    "2. **In the PDF report**, briefly describe how you verify that your model is indeed deployed on GPU. (Hint: check $\\texttt{nvidia-smi}$.)"
   ]
  },
  {
   "cell_type": "code",
   "execution_count": 8,
   "metadata": {},
   "outputs": [
    {
     "name": "stdout",
     "output_type": "stream",
     "text": [
      "Using cuda:0 for computation\n"
     ]
    }
   ],
   "source": [
    "# specify the device for computation\n",
    "#############################################\n",
    "# your code here\n",
    "device = torch.device(\"cuda:0\" if torch.cuda.is_available() else \"cpu\")\n",
    "print(f\"Using {device} for computation\")\n",
    "\n",
    "model = SimpleNN().to(device)\n",
    "#############################################"
   ]
  },
  {
   "cell_type": "code",
   "execution_count": 9,
   "metadata": {},
   "outputs": [
    {
     "name": "stdout",
     "output_type": "stream",
     "text": [
      "CUDA available: True\n",
      "Current device: 0\n",
      "Device name: NVIDIA GeForce RTX 3050 Ti Laptop GPU\n"
     ]
    }
   ],
   "source": [
    "import torch\n",
    "\n",
    "# Check if CUDA is available\n",
    "print(\"CUDA available:\", torch.cuda.is_available())\n",
    "\n",
    "# Check the current device\n",
    "print(\"Current device:\", torch.cuda.current_device())\n",
    "\n",
    "# Check the name of the current device\n",
    "print(\"Device name:\", torch.cuda.get_device_name(torch.cuda.current_device()))"
   ]
  },
  {
   "cell_type": "code",
   "execution_count": 10,
   "metadata": {},
   "outputs": [
    {
     "name": "stdout",
     "output_type": "stream",
     "text": [
      "2.4.1+cu124\n",
      "12.4\n"
     ]
    }
   ],
   "source": [
    "print(torch.__version__)\n",
    "print(torch.version.cuda)"
   ]
  },
  {
   "cell_type": "markdown",
   "metadata": {},
   "source": [
    "After mounting the model on GPU we can see that a new process on the GPU is created.\n",
    "\n",
    "|    0   N/A  N/A     30548      C   D:\\miniconda3\\python \n",
    "exe                    N/A      |\n",
    "\n",
    "|    0   N/A  N/A     35376    C+G   ...ience\\NVIDIA GeForce Experience.exe      N/A      |\n",
    "\n",
    "(hw2) "
   ]
  },
  {
   "cell_type": "markdown",
   "metadata": {},
   "source": [
    "## Step 4: Set up the loss function and optimizer\n",
    "Loss function/objective function is used to provide \"feedback\" for the neural networks. Typically, we use multi-class cross-entropy as the loss function for classification models. As for the optimizer, we will use SGD with momentum. "
   ]
  },
  {
   "cell_type": "markdown",
   "metadata": {},
   "source": [
    "### Question (e)\n",
    "Here, you need to:\n",
    "1. Set up the cross-entropy loss as the criterion. (Hint: there are implemented functions in **torch.nn**)\n",
    "2. Specify a SGD optimizer with momentum. (Hint: there are implemented functions in **torch.optim**)"
   ]
  },
  {
   "cell_type": "code",
   "execution_count": 11,
   "metadata": {},
   "outputs": [],
   "source": [
    "import torch.nn as nn\n",
    "import torch.optim as optim\n",
    "\n",
    "# hyperparameters, do NOT change right now\n",
    "# initial learning rate\n",
    "INITIAL_LR = 0.02\n",
    "\n",
    "# momentum for optimizer\n",
    "MOMENTUM = 0.9\n",
    "\n",
    "# L2 regularization strength\n",
    "REG = 1e-4\n",
    "\n",
    "#############################################\n",
    "# your code here\n",
    "# create loss function\n",
    "criterion = nn.CrossEntropyLoss()\n",
    "\n",
    "# Add optimizer\n",
    "optimizer = optim.SGD(\n",
    "    model.parameters(), lr=INITIAL_LR, momentum=MOMENTUM, weight_decay=REG\n",
    ")\n",
    "#############################################"
   ]
  },
  {
   "cell_type": "markdown",
   "metadata": {},
   "source": [
    "## Step 5: Start the training process.\n",
    "\n",
    "### Question (f)/(g)\n",
    "Congratulations! You have completed all of the previous steps and it is time to train our neural network.\n",
    "\n",
    "Here you need to:\n",
    "1. Complete the training codes.\n",
    "2. Actually perform the training.\n",
    "\n",
    "Hint: Training a neural network usually repeats the following 4 steps: \n",
    "\n",
    "**i) Get a batch of data from the dataloader and copy it to your device (GPU).**\n",
    "\n",
    "**ii) Do a forward pass to get the outputs from the neural network and compute the loss. Be careful about your inputs to the loss function. Are the inputs required to be the logits or softmax probabilities?)**\n",
    "\n",
    "**iii) Do a backward pass (back-propagation) to compute gradients of all weights with respect to the loss.**\n",
    "\n",
    "**iiii) Update the model weights with the optimizer.**\n",
    "\n",
    "You will also need to compute the accuracy of training/validation samples to track your model's performance over each epoch (the accuracy should be increasing as you train for more and more epochs).\n"
   ]
  },
  {
   "cell_type": "code",
   "execution_count": 12,
   "metadata": {},
   "outputs": [
    {
     "name": "stdout",
     "output_type": "stream",
     "text": [
      "==> Training starts!\n",
      "==================================================\n",
      "Epoch 0:\n",
      "CUDA memory allocated: 18.93 MB\n",
      "Training loss: 1.7484, Training accuracy: 0.3478\n",
      "Validation loss: 1.4239, Validation accuracy: 0.4848\n",
      "Saving ...\n",
      "\n",
      "Epoch 1:\n",
      "CUDA memory allocated: 18.93 MB\n",
      "Training loss: 1.4223, Training accuracy: 0.4836\n",
      "Validation loss: 1.3043, Validation accuracy: 0.5326\n",
      "Saving ...\n",
      "\n",
      "Epoch 2:\n",
      "CUDA memory allocated: 18.93 MB\n",
      "Training loss: 1.2975, Training accuracy: 0.5318\n",
      "Validation loss: 1.1607, Validation accuracy: 0.5704\n",
      "Saving ...\n",
      "\n",
      "Epoch 3:\n",
      "CUDA memory allocated: 18.93 MB\n",
      "Training loss: 1.2145, Training accuracy: 0.5656\n",
      "Validation loss: 1.1021, Validation accuracy: 0.6000\n",
      "Saving ...\n",
      "\n",
      "Epoch 4:\n",
      "CUDA memory allocated: 18.93 MB\n",
      "Training loss: 1.1489, Training accuracy: 0.5886\n",
      "Validation loss: 1.0280, Validation accuracy: 0.6226\n",
      "Saving ...\n",
      "\n",
      "Epoch 5:\n",
      "CUDA memory allocated: 18.93 MB\n",
      "Training loss: 1.1104, Training accuracy: 0.6025\n",
      "Validation loss: 1.0347, Validation accuracy: 0.6274\n",
      "Saving ...\n",
      "\n",
      "Epoch 6:\n",
      "CUDA memory allocated: 18.93 MB\n",
      "Training loss: 1.0667, Training accuracy: 0.6216\n",
      "Validation loss: 1.0515, Validation accuracy: 0.6286\n",
      "Saving ...\n",
      "\n",
      "Epoch 7:\n",
      "CUDA memory allocated: 18.93 MB\n",
      "Training loss: 1.0339, Training accuracy: 0.6334\n",
      "Validation loss: 0.9458, Validation accuracy: 0.6612\n",
      "Saving ...\n",
      "\n",
      "Epoch 8:\n",
      "CUDA memory allocated: 18.93 MB\n",
      "Training loss: 1.0041, Training accuracy: 0.6412\n",
      "Validation loss: 0.9501, Validation accuracy: 0.6562\n",
      "\n",
      "Epoch 9:\n",
      "CUDA memory allocated: 18.93 MB\n",
      "Training loss: 0.9817, Training accuracy: 0.6528\n",
      "Validation loss: 0.9330, Validation accuracy: 0.6706\n",
      "Saving ...\n",
      "\n",
      "Epoch 10:\n",
      "CUDA memory allocated: 18.93 MB\n",
      "Training loss: 0.9617, Training accuracy: 0.6603\n",
      "Validation loss: 0.8960, Validation accuracy: 0.6852\n",
      "Saving ...\n",
      "\n",
      "Epoch 11:\n",
      "CUDA memory allocated: 18.93 MB\n",
      "Training loss: 0.9389, Training accuracy: 0.6690\n",
      "Validation loss: 0.9292, Validation accuracy: 0.6734\n",
      "\n",
      "Epoch 12:\n",
      "CUDA memory allocated: 18.93 MB\n",
      "Training loss: 0.9232, Training accuracy: 0.6724\n",
      "Validation loss: 0.8709, Validation accuracy: 0.6950\n",
      "Saving ...\n",
      "\n",
      "Epoch 13:\n",
      "CUDA memory allocated: 18.93 MB\n",
      "Training loss: 0.9111, Training accuracy: 0.6754\n",
      "Validation loss: 0.8760, Validation accuracy: 0.6896\n",
      "\n",
      "Epoch 14:\n",
      "CUDA memory allocated: 18.93 MB\n",
      "Training loss: 0.9025, Training accuracy: 0.6821\n",
      "Validation loss: 0.9324, Validation accuracy: 0.6678\n",
      "\n",
      "Epoch 15:\n",
      "CUDA memory allocated: 18.93 MB\n",
      "Training loss: 0.8867, Training accuracy: 0.6863\n",
      "Validation loss: 0.8288, Validation accuracy: 0.7114\n",
      "Saving ...\n",
      "\n",
      "Epoch 16:\n",
      "CUDA memory allocated: 18.93 MB\n",
      "Training loss: 0.8795, Training accuracy: 0.6890\n",
      "Validation loss: 0.8181, Validation accuracy: 0.7132\n",
      "Saving ...\n",
      "\n",
      "Epoch 17:\n",
      "CUDA memory allocated: 18.93 MB\n",
      "Training loss: 0.8579, Training accuracy: 0.6963\n",
      "Validation loss: 0.8604, Validation accuracy: 0.6982\n",
      "\n",
      "Epoch 18:\n",
      "CUDA memory allocated: 18.93 MB\n",
      "Training loss: 0.8546, Training accuracy: 0.6979\n",
      "Validation loss: 0.7951, Validation accuracy: 0.7252\n",
      "Saving ...\n",
      "\n",
      "Epoch 19:\n",
      "CUDA memory allocated: 18.93 MB\n",
      "Training loss: 0.8431, Training accuracy: 0.7008\n",
      "Validation loss: 0.8094, Validation accuracy: 0.7166\n",
      "\n",
      "Epoch 20:\n",
      "CUDA memory allocated: 18.93 MB\n",
      "Training loss: 0.8392, Training accuracy: 0.7043\n",
      "Validation loss: 0.8261, Validation accuracy: 0.7108\n",
      "\n",
      "Epoch 21:\n",
      "CUDA memory allocated: 18.93 MB\n",
      "Training loss: 0.8319, Training accuracy: 0.7041\n",
      "Validation loss: 0.7962, Validation accuracy: 0.7254\n",
      "Saving ...\n",
      "\n",
      "Epoch 22:\n",
      "CUDA memory allocated: 18.93 MB\n",
      "Training loss: 0.8283, Training accuracy: 0.7095\n",
      "Validation loss: 0.8305, Validation accuracy: 0.7074\n",
      "\n",
      "Epoch 23:\n",
      "CUDA memory allocated: 18.93 MB\n",
      "Training loss: 0.8243, Training accuracy: 0.7063\n",
      "Validation loss: 0.7865, Validation accuracy: 0.7208\n",
      "\n",
      "Epoch 24:\n",
      "CUDA memory allocated: 18.93 MB\n",
      "Training loss: 0.8101, Training accuracy: 0.7135\n",
      "Validation loss: 0.7821, Validation accuracy: 0.7238\n",
      "\n",
      "Epoch 25:\n",
      "CUDA memory allocated: 18.93 MB\n",
      "Training loss: 0.8013, Training accuracy: 0.7163\n",
      "Validation loss: 0.7778, Validation accuracy: 0.7280\n",
      "Saving ...\n",
      "\n",
      "Epoch 26:\n",
      "CUDA memory allocated: 18.93 MB\n",
      "Training loss: 0.8013, Training accuracy: 0.7177\n",
      "Validation loss: 0.7746, Validation accuracy: 0.7322\n",
      "Saving ...\n",
      "\n",
      "Epoch 27:\n",
      "CUDA memory allocated: 18.93 MB\n",
      "Training loss: 0.7889, Training accuracy: 0.7212\n",
      "Validation loss: 0.7558, Validation accuracy: 0.7322\n",
      "\n",
      "Epoch 28:\n",
      "CUDA memory allocated: 18.93 MB\n",
      "Training loss: 0.7824, Training accuracy: 0.7238\n",
      "Validation loss: 0.7662, Validation accuracy: 0.7254\n",
      "\n",
      "Epoch 29:\n",
      "CUDA memory allocated: 18.93 MB\n",
      "Training loss: 0.7794, Training accuracy: 0.7241\n",
      "Validation loss: 0.7699, Validation accuracy: 0.7314\n",
      "\n",
      "==================================================\n",
      "==> Optimization finished! Best validation accuracy: 0.7322\n"
     ]
    }
   ],
   "source": [
    "# some hyperparameters\n",
    "# total number of training epochs\n",
    "EPOCHS = 30\n",
    "\n",
    "# the folder where the trained model is saved\n",
    "CHECKPOINT_FOLDER = \"./saved_model\"\n",
    "\n",
    "# start the training/validation process\n",
    "# the process should take about 5 minutes on a GTX 1070-Ti\n",
    "# if the code is written efficiently.\n",
    "best_val_acc = 0\n",
    "current_learning_rate = INITIAL_LR\n",
    "\n",
    "print(\"==> Training starts!\")\n",
    "print(\"=\" * 50)\n",
    "for i in range(0, EPOCHS):\n",
    "    #######################\n",
    "    # your code here\n",
    "    # switch to train mode\n",
    "    model.train()\n",
    "\n",
    "    #######################\n",
    "\n",
    "    print(\"Epoch %d:\" % i)\n",
    "    # this help you compute the training accuracy\n",
    "    total_examples = 0\n",
    "    correct_examples = 0\n",
    "\n",
    "    train_loss = 0  # track training loss if you want\n",
    "\n",
    "    # Train the model for 1 epoch.\n",
    "    for batch_idx, (inputs, targets) in enumerate(train_loader):\n",
    "        ####################################\n",
    "        # your code here\n",
    "        # copy inputs to device\n",
    "        inputs, targets = inputs.to(device), targets.to(device)\n",
    "\n",
    "        # compute the output and loss\n",
    "        outputs = model(inputs)\n",
    "        loss = criterion(outputs, targets)\n",
    "\n",
    "        # zero the gradient\n",
    "        optimizer.zero_grad()\n",
    "        # backpropagation\n",
    "        loss.backward()\n",
    "        # apply gradient and update the weights\n",
    "        optimizer.step()\n",
    "\n",
    "        train_loss += loss.item()\n",
    "        # count the number of correctly predicted samples in the current batch\n",
    "        total_examples += targets.size(0)\n",
    "        _, predicted = outputs.max(1)\n",
    "        correct_examples += predicted.eq(targets).sum().item()\n",
    "        ####################################\n",
    "    print(f\"CUDA memory allocated: {torch.cuda.memory_allocated(device) / 1e6:.2f} MB\")\n",
    "    avg_loss = train_loss / len(train_loader)\n",
    "    avg_acc = correct_examples / total_examples\n",
    "    print(\"Training loss: %.4f, Training accuracy: %.4f\" % (avg_loss, avg_acc))\n",
    "\n",
    "    # Validate on the validation dataset\n",
    "    #######################\n",
    "    # your code here\n",
    "    # switch to eval mode\n",
    "    model.eval()\n",
    "\n",
    "    #######################\n",
    "\n",
    "    # this help you compute the validation accuracy\n",
    "    total_examples = 0\n",
    "    correct_examples = 0\n",
    "\n",
    "    val_loss = 0  # again, track the validation loss if you want\n",
    "\n",
    "    # disable gradient during validation, which can save GPU memory\n",
    "    with torch.no_grad():\n",
    "        for batch_idx, (inputs, targets) in enumerate(val_loader):\n",
    "            ####################################\n",
    "            # your code here\n",
    "            # copy inputs to device\n",
    "            inputs, targets = inputs.to(device), targets.to(device)\n",
    "\n",
    "            # compute the output and loss\n",
    "            outputs = model(inputs)\n",
    "            loss = criterion(outputs, targets)\n",
    "\n",
    "            # count the number of correctly predicted samples in the current batch\n",
    "            total_examples += targets.size(0)\n",
    "            _, predicted = outputs.max(1)\n",
    "            correct_examples += predicted.eq(targets).sum().item()\n",
    "            val_loss += loss.item()\n",
    "            ####################################\n",
    "\n",
    "    avg_loss = val_loss / len(val_loader)\n",
    "    avg_acc = correct_examples / total_examples\n",
    "    print(\"Validation loss: %.4f, Validation accuracy: %.4f\" % (avg_loss, avg_acc))\n",
    "\n",
    "    # save the model checkpoint\n",
    "    if avg_acc > best_val_acc:\n",
    "        best_val_acc = avg_acc\n",
    "        if not os.path.exists(CHECKPOINT_FOLDER):\n",
    "            os.makedirs(CHECKPOINT_FOLDER)\n",
    "        print(\"Saving ...\")\n",
    "        state = {\n",
    "            \"state_dict\": model.state_dict(),\n",
    "            \"epoch\": i,\n",
    "            \"lr\": current_learning_rate,\n",
    "        }\n",
    "        torch.save(state, os.path.join(CHECKPOINT_FOLDER, \"nn_crop_flip.pth\"))\n",
    "\n",
    "    print(\"\")\n",
    "\n",
    "print(\"=\" * 50)\n",
    "print(f\"==> Optimization finished! Best validation accuracy: {best_val_acc:.4f}\")"
   ]
  },
  {
   "cell_type": "markdown",
   "metadata": {},
   "source": [
    "# Bonus: with learning rate decay\n",
    "\n",
    "The following code can help you adjust the learning rate during training. You need to figure out how to incorporate this code into your training loop.\n",
    "```python\n",
    "    if i % DECAY_EPOCHS == 0 and i != 0:\n",
    "        current_learning_rate = current_learning_rate * DECAY\n",
    "        for param_group in optimizer.param_groups:\n",
    "            param_group['lr'] = current_learning_rate\n",
    "        print(\"Current learning rate has decayed to %f\" %current_learning_rate)\n",
    "```"
   ]
  },
  {
   "cell_type": "code",
   "execution_count": null,
   "metadata": {},
   "outputs": [],
   "source": []
  }
 ],
 "metadata": {
  "kernelspec": {
   "display_name": "Python 3 (ipykernel)",
   "language": "python",
   "name": "python3"
  },
  "language_info": {
   "codemirror_mode": {
    "name": "ipython",
    "version": 3
   },
   "file_extension": ".py",
   "mimetype": "text/x-python",
   "name": "python",
   "nbconvert_exporter": "python",
   "pygments_lexer": "ipython3",
   "version": "3.11.5"
  }
 },
 "nbformat": 4,
 "nbformat_minor": 4
}
