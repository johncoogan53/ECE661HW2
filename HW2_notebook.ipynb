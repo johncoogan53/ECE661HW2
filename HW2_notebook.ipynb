{
  "cells": [
    {
      "cell_type": "markdown",
      "metadata": {
        "id": "view-in-github",
        "colab_type": "text"
      },
      "source": [
        "<a href=\"https://colab.research.google.com/github/johncoogan53/ECE661HW2/blob/main/HW2_notebook.ipynb\" target=\"_parent\"><img src=\"https://colab.research.google.com/assets/colab-badge.svg\" alt=\"Open In Colab\"/></a>"
      ]
    },
    {
      "cell_type": "markdown",
      "metadata": {
        "id": "bEBn_HSRDpP7"
      },
      "source": [
        "# Test pdf conversion"
      ]
    },
    {
      "cell_type": "markdown",
      "metadata": {
        "id": "81AMNOF0DpP8"
      },
      "source": [
        "edit in colab"
      ]
    },
    {
      "cell_type": "code",
      "source": [],
      "metadata": {
        "id": "4on1i7crEdVO"
      },
      "execution_count": null,
      "outputs": []
    }
  ],
  "metadata": {
    "language_info": {
      "name": "python"
    },
    "colab": {
      "provenance": [],
      "include_colab_link": true
    },
    "kernelspec": {
      "name": "python3",
      "display_name": "Python 3"
    }
  },
  "nbformat": 4,
  "nbformat_minor": 0
}